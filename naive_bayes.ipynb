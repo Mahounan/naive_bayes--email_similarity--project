{
 "cells": [
  {
   "cell_type": "markdown",
   "id": "49d80423",
   "metadata": {},
   "source": [
    "Jan 06, 2021 <br>\n",
    "Mahounan Y. <br>\n",
    "\n",
    "# Email Similarity\n",
    "\n",
    "In this project, I will use scikit-learn’s Naive Bayes implementation on several different datasets. By reporting the accuracy of the classifier, we can find which datasets are harder to distinguish. For example, how difficult do you think it is to distinguish the difference between emails about hockey and emails about soccer? How hard is it to tell the difference between emails about hockey and emails about tech? In this project, we’ll find out exactly how difficult those two tasks are."
   ]
  },
  {
   "cell_type": "code",
   "execution_count": 1,
   "id": "e813e49f",
   "metadata": {},
   "outputs": [],
   "source": [
    "from sklearn.datasets import fetch_20newsgroups #datasets: the dataset is a dictionary\n",
    "from sklearn.naive_bayes import MultinomialNB #multinomial bayes\n",
    "from sklearn.feature_extraction.text import CountVectorizer #word counts"
   ]
  },
  {
   "cell_type": "markdown",
   "id": "512a32b3",
   "metadata": {},
   "source": [
    "## Exploring the Data"
   ]
  },
  {
   "cell_type": "code",
   "execution_count": 4,
   "id": "060c931f",
   "metadata": {},
   "outputs": [
    {
     "data": {
      "text/plain": [
       "dict_keys(['data', 'filenames', 'target_names', 'target', 'DESCR'])"
      ]
     },
     "execution_count": 4,
     "metadata": {},
     "output_type": "execute_result"
    }
   ],
   "source": [
    "emails = fetch_20newsgroups()\n",
    "emails.keys()"
   ]
  },
  {
   "cell_type": "markdown",
   "id": "5c6d8e10",
   "metadata": {},
   "source": [
    "Print emails.target_names to see the different categories."
   ]
  },
  {
   "cell_type": "code",
   "execution_count": 3,
   "id": "8755c62a",
   "metadata": {},
   "outputs": [
    {
     "data": {
      "text/plain": [
       "['alt.atheism',\n",
       " 'comp.graphics',\n",
       " 'comp.os.ms-windows.misc',\n",
       " 'comp.sys.ibm.pc.hardware',\n",
       " 'comp.sys.mac.hardware',\n",
       " 'comp.windows.x',\n",
       " 'misc.forsale',\n",
       " 'rec.autos',\n",
       " 'rec.motorcycles',\n",
       " 'rec.sport.baseball',\n",
       " 'rec.sport.hockey',\n",
       " 'sci.crypt',\n",
       " 'sci.electronics',\n",
       " 'sci.med',\n",
       " 'sci.space',\n",
       " 'soc.religion.christian',\n",
       " 'talk.politics.guns',\n",
       " 'talk.politics.mideast',\n",
       " 'talk.politics.misc',\n",
       " 'talk.religion.misc']"
      ]
     },
     "execution_count": 3,
     "metadata": {},
     "output_type": "execute_result"
    }
   ],
   "source": [
    "emails.target_names"
   ]
  },
  {
   "cell_type": "markdown",
   "id": "68a6aa30",
   "metadata": {},
   "source": [
    "We’re interested in seeing how effective our Naive Bayes classifier is at telling the difference between a baseball email and a hockey email. We can select the categories of articles we want from fetch_20newsgroups by adding the parameter categories.\n",
    "\n",
    "In the function call, set categories equal to the list ['rec.sport.baseball', 'rec.sport.hockey']"
   ]
  },
  {
   "cell_type": "code",
   "execution_count": 5,
   "id": "1acfeb8b",
   "metadata": {},
   "outputs": [
    {
     "data": {
      "text/plain": [
       "['rec.sport.baseball', 'rec.sport.hockey']"
      ]
     },
     "execution_count": 5,
     "metadata": {},
     "output_type": "execute_result"
    }
   ],
   "source": [
    "emails = fetch_20newsgroups(categories = ['rec.sport.baseball', 'rec.sport.hockey'])\n",
    "emails.target_names"
   ]
  },
  {
   "cell_type": "markdown",
   "id": "3cfd4bd0",
   "metadata": {},
   "source": [
    "Let’s take a look at one of these emails.\n",
    "\n",
    "All of the emails are stored in a list called emails.data. Print the email at index 5 in the list."
   ]
  },
  {
   "cell_type": "code",
   "execution_count": 8,
   "id": "ce5e0dd0",
   "metadata": {},
   "outputs": [
    {
     "name": "stdout",
     "output_type": "stream",
     "text": [
      "From: mmb@lamar.ColoState.EDU (Michael Burger)\n",
      "Subject: More TV Info\n",
      "Distribution: na\n",
      "Nntp-Posting-Host: lamar.acns.colostate.edu\n",
      "Organization: Colorado State University, Fort Collins, CO  80523\n",
      "Lines: 36\n",
      "\n",
      "United States Coverage:\n",
      "Sunday April 18\n",
      "  N.J./N.Y.I. at Pittsburgh - 1:00 EDT to Eastern Time Zone\n",
      "  ABC - Gary Thorne and Bill Clement\n",
      "\n",
      "  St. Louis at Chicago - 12:00 CDT and 11:00 MDT - to Central/Mountain Zones\n",
      "  ABC - Mike Emerick and Jim Schoenfeld\n",
      "\n",
      "  Los Angeles at Calgary - 12:00 PDT and 11:00 ADT - to Pacific/Alaskan Zones\n",
      "  ABC - Al Michaels and John Davidson\n",
      "\n",
      "Tuesday, April 20\n",
      "  N.J./N.Y.I. at Pittsburgh - 7:30 EDT Nationwide\n",
      "  ESPN - Gary Thorne and Bill Clement\n",
      "\n",
      "Thursday, April 22 and Saturday April 24\n",
      "  To Be Announced - 7:30 EDT Nationwide\n",
      "  ESPN - To Be Announced\n",
      "\n",
      "\n",
      "Canadian Coverage:\n",
      "\n",
      "Sunday, April 18\n",
      "  Buffalo at Boston - 7:30 EDT Nationwide\n",
      "  TSN - ???\n",
      "\n",
      "Tuesday, April 20\n",
      "  N.J.D./N.Y. at Pittsburgh - 7:30 EDT Nationwide\n",
      "  TSN - ???\n",
      "\n",
      "Wednesday, April 21\n",
      "  St. Louis at Chicago - 8:30 EDT Nationwide\n",
      "  TSN - ???\n",
      "\n",
      "\n",
      "\n",
      "\n"
     ]
    }
   ],
   "source": [
    "print(emails['data'][5])"
   ]
  },
  {
   "cell_type": "markdown",
   "id": "1d4a5890",
   "metadata": {},
   "source": [
    "All of the labels can be found in the list emails.target. Print the label of the email at index 5.\n",
    "\n",
    "The labels themselves are numbers, but those numbers correspond to the label names found at emails.target_names.\n",
    "\n",
    "Is this a baseball email or a hockey email? This must be a hockey email cuz hockey has index 1 in the target_names list.\n",
    "\n"
   ]
  },
  {
   "cell_type": "code",
   "execution_count": 27,
   "id": "d04f54b3",
   "metadata": {},
   "outputs": [
    {
     "name": "stdout",
     "output_type": "stream",
     "text": [
      "1\n"
     ]
    },
    {
     "data": {
      "text/plain": [
       "['rec.sport.baseball', 'rec.sport.hockey']"
      ]
     },
     "execution_count": 27,
     "metadata": {},
     "output_type": "execute_result"
    }
   ],
   "source": [
    "print(emails['target'][5])\n",
    "emails.target_names"
   ]
  },
  {
   "cell_type": "markdown",
   "id": "387d53af",
   "metadata": {},
   "source": [
    "## Making the Training and Test Sets\n",
    "\n",
    "We now want to split our data into training and test sets. Change the name of your variable from emails to train_emails. Add these three parameters to the function call:\n",
    "\n",
    " - subset='train'\n",
    " - shuffle = True\n",
    " - random_state = 108\n",
    " \n",
    "Adding the random_state parameter will make sure that every time you run the code, your dataset is split in the same way.\n",
    "\n",
    "Create another variable named test_emails and set it equal to fetch_20newsgroups. The parameters of the function should be the same as before except subset should now be 'test'.\n",
    "\n",
    "\n"
   ]
  },
  {
   "cell_type": "code",
   "execution_count": 41,
   "id": "32f498b8",
   "metadata": {},
   "outputs": [],
   "source": [
    "#train_emails = fetch_20newsgroups(categories = ['rec.sport.baseball', 'rec.sport.hockey'], subset = 'train', shuffle = True, random_state = 108)\n",
    "#test_emails = fetch_20newsgroups(categories = ['rec.sport.baseball', 'rec.sport.hockey'], subset = 'test', shuffle = True, random_state = 108)\n",
    "\n",
    "train_emails = fetch_20newsgroups(categories = ['comp.sys.ibm.pc.hardware','rec.sport.hockey'], subset = 'train', shuffle = True, random_state = 108)\n",
    "test_emails = fetch_20newsgroups(categories = ['comp.sys.ibm.pc.hardware','rec.sport.hockey'], subset = 'test', shuffle = True, random_state = 108)"
   ]
  },
  {
   "cell_type": "markdown",
   "id": "df6b5257",
   "metadata": {},
   "source": [
    "## Counting Words\n",
    "\n",
    "We want to transform these emails into lists of word counts. The CountVectorizer class makes this easy for us.\n",
    "\n",
    "Create a CountVectorizer object and name it counter."
   ]
  },
  {
   "cell_type": "code",
   "execution_count": 42,
   "id": "fb8a7120",
   "metadata": {},
   "outputs": [],
   "source": [
    "counter = CountVectorizer()"
   ]
  },
  {
   "cell_type": "markdown",
   "id": "bf5fccbf",
   "metadata": {},
   "source": [
    "We need to tell counter what possible words can exist in our emails. counter has a .fit() a function that takes a list of all your data.\n",
    "\n",
    "Call .fit() with test_emails.data + train_emails.data as a parameter."
   ]
  },
  {
   "cell_type": "code",
   "execution_count": 43,
   "id": "b9323558",
   "metadata": {},
   "outputs": [
    {
     "data": {
      "text/plain": [
       "CountVectorizer()"
      ]
     },
     "execution_count": 43,
     "metadata": {},
     "output_type": "execute_result"
    }
   ],
   "source": [
    "counter.fit(train_emails.data + test_emails.data)"
   ]
  },
  {
   "cell_type": "markdown",
   "id": "f41c7c88",
   "metadata": {},
   "source": [
    "We can now make a list of the counts of our words in our training set.\n",
    "\n",
    "Create a variable named train_counts. Set it equal to counter‘s transform function using train_emails.data as a parameter. <br>\n",
    "Let’s also make a variable named test_counts. This should be the same function call as before, but use test_emails.data as the parameter of transform."
   ]
  },
  {
   "cell_type": "code",
   "execution_count": 44,
   "id": "e0619721",
   "metadata": {},
   "outputs": [],
   "source": [
    "train_counts = counter.transform(train_emails.data)\n",
    "test_counts = counter.transform(test_emails.data)"
   ]
  },
  {
   "cell_type": "markdown",
   "id": "2794b9b1",
   "metadata": {},
   "source": [
    "## Making a Naive Bayes Classifier\n",
    "\n",
    "Let’s now make a Naive Bayes classifier that we can train and test on. Create a MultinomialNB object named classifier."
   ]
  },
  {
   "cell_type": "code",
   "execution_count": 45,
   "id": "e963de8d",
   "metadata": {},
   "outputs": [],
   "source": [
    "classifier = MultinomialNB()"
   ]
  },
  {
   "cell_type": "markdown",
   "id": "ebd269bc",
   "metadata": {},
   "source": [
    "Call classifier's .fit() function. .fit() takes two parameters. The first should be our training set, which for us is train_counts. The second should be the labels associated with the training emails. Those are found in train_emails.target.\n",
    "\n"
   ]
  },
  {
   "cell_type": "code",
   "execution_count": 46,
   "id": "bd5146ed",
   "metadata": {},
   "outputs": [
    {
     "data": {
      "text/plain": [
       "MultinomialNB()"
      ]
     },
     "execution_count": 46,
     "metadata": {},
     "output_type": "execute_result"
    }
   ],
   "source": [
    "classifier.fit(train_counts, train_emails.target)"
   ]
  },
  {
   "cell_type": "markdown",
   "id": "3493cb80",
   "metadata": {},
   "source": [
    "\n",
    "Test the Naive Bayes Classifier by printing classifier‘s .score() function. .score() takes the test set and the test labels as parameters.\n",
    "\n",
    ".score() returns the accuracy of the classifier on the test data. Accuracy measures the percentage of classifications a classifier correctly made."
   ]
  },
  {
   "cell_type": "code",
   "execution_count": 47,
   "id": "cd0c0b31",
   "metadata": {},
   "outputs": [
    {
     "data": {
      "text/plain": [
       "0.9974715549936789"
      ]
     },
     "execution_count": 47,
     "metadata": {},
     "output_type": "execute_result"
    }
   ],
   "source": [
    "classifier.score(test_counts, test_emails.target)"
   ]
  },
  {
   "cell_type": "markdown",
   "id": "7e5542ea",
   "metadata": {},
   "source": [
    "The model is pretty acurate (96.8%). Now, lets test other datasets. The other dataset yields 99.74%.\n",
    "\n",
    "## Testing Other Datasets\n",
    "\n",
    "Our classifier does a pretty good job distinguishing between soccer emails and hockey emails. But let’s see how it does with emails about really different topics.\n",
    "\n",
    "Find where you create train_emails and test_emails. Change the categories to be ['comp.sys.ibm.pc.hardware','rec.sport.hockey'].\n",
    "\n",
    "Did your classifier do a better or worse job on these two datasets? Yes it does a better job when the topic are totally different.\n",
    "\n"
   ]
  },
  {
   "cell_type": "markdown",
   "id": "9b366d9d",
   "metadata": {},
   "source": [
    "Play around with different sets of data. Can you find a set that’s incredibly accurate or incredibly inaccurate?\n",
    "\n",
    "The possible categories are listed below.\n",
    "\n",
    " - 'alt.atheism'\n",
    " - 'comp.graphics'\n",
    " - 'comp.os.ms-windows.misc'\n",
    " - 'comp.sys.ibm.pc.hardware'\n",
    " - 'comp.sys.mac.hardware'\n",
    " - 'comp.windows.x'\n",
    " - 'misc.forsale'\n",
    " - 'rec.autos'\n",
    " - 'rec.motorcycles'\n",
    " - 'rec.sport.baseball'\n",
    " - 'rec.sport.hockey'\n",
    " - 'sci.crypt'\n",
    " - 'sci.electronics'\n",
    " - 'sci.med'\n",
    " - 'sci.space'\n",
    " - 'soc.religion.christian'\n",
    " - 'talk.politics.guns'\n",
    " - 'talk.politics.mideast'\n",
    " - 'talk.politics.misc'\n",
    " - 'talk.religion.misc'"
   ]
  },
  {
   "cell_type": "code",
   "execution_count": null,
   "id": "7a9b3939",
   "metadata": {},
   "outputs": [],
   "source": []
  }
 ],
 "metadata": {
  "kernelspec": {
   "display_name": "Python 3",
   "language": "python",
   "name": "python3"
  },
  "language_info": {
   "codemirror_mode": {
    "name": "ipython",
    "version": 3
   },
   "file_extension": ".py",
   "mimetype": "text/x-python",
   "name": "python",
   "nbconvert_exporter": "python",
   "pygments_lexer": "ipython3",
   "version": "3.9.5"
  }
 },
 "nbformat": 4,
 "nbformat_minor": 5
}
